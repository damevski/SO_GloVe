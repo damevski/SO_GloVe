{
 "cells": [
  {
   "cell_type": "code",
   "execution_count": 1,
   "metadata": {},
   "outputs": [],
   "source": [
    "import gensim\n",
    "from gensim.scripts.glove2word2vec import glove2word2vec\n",
    "from gensim.models import KeyedVectors\n",
    "\n",
    "glove2word2vec('../embeddings/vectors.txt', '../embeddings/w2v_vectors.txt')\n",
    "model = KeyedVectors.load_word2vec_format('../embeddings/w2v_vectors.txt')\n",
    "\n",
    "vk_file = '../SO_word2vec/SO_vectors_200.bin'\n",
    "vk_model = KeyedVectors.load_word2vec_format(vk_file, binary=True)"
   ]
  },
  {
   "cell_type": "code",
   "execution_count": 2,
   "metadata": {},
   "outputs": [
    {
     "name": "stdout",
     "output_type": "stream",
     "text": [
      "Total SO Synonyms = 3650\n"
     ]
    }
   ],
   "source": [
    "import pandas as pd\n",
    "df = pd.read_csv('../so_tag_synonyms/TagSynonyms_20170613.txt')\n",
    "print('Total SO Synonyms = ' + str(len(df)))"
   ]
  },
  {
   "cell_type": "code",
   "execution_count": 3,
   "metadata": {},
   "outputs": [],
   "source": [
    "def get_model_pred_top1(model, df):\n",
    "    pred = [0] * len(df)\n",
    "    for index, row in df.iterrows():   \n",
    "        if row['SourceTagName'] not in model.vocab:\n",
    "            pred[index] = -1\n",
    "            continue\n",
    "        result = model.most_similar(positive=[row['SourceTagName']])\n",
    "        if result[0][0] == row['TargetTagName']:\n",
    "            pred[index] = 1\n",
    "    return pred\n",
    "\n",
    "def get_model_pred_top3(model, df):\n",
    "    pred = [0] * len(df)\n",
    "    for index, row in df.iterrows():   \n",
    "        if row['SourceTagName'] not in model.vocab:\n",
    "            pred[index] = -1\n",
    "            continue\n",
    "        result = model.most_similar(positive=[row['SourceTagName']])\n",
    "        if result[0][0] == row['TargetTagName'] or \\\n",
    "        result[1][0] == row['TargetTagName'] or \\\n",
    "        result[2][0] == row['TargetTagName']:\n",
    "            pred[index] = 1\n",
    "    return pred"
   ]
  },
  {
   "cell_type": "code",
   "execution_count": 4,
   "metadata": {},
   "outputs": [
    {
     "name": "stdout",
     "output_type": "stream",
     "text": [
      "Not in vocab = 1729\n",
      "Top1 matches = 560\n",
      "Top3 matches = 790\n"
     ]
    }
   ],
   "source": [
    "pred = get_model_pred_top1(model, df)\n",
    "print('Not in vocab = ' + str(pred.count(-1)))\n",
    "print('Top1 matches = ' + str(pred.count(1)))\n",
    "\n",
    "pred = get_model_pred_top3(model, df)\n",
    "print('Top3 matches = ' + str(pred.count(1)))"
   ]
  },
  {
   "cell_type": "code",
   "execution_count": 5,
   "metadata": {},
   "outputs": [
    {
     "name": "stdout",
     "output_type": "stream",
     "text": [
      "Not in vocab = 983\n",
      "Top1 matches = 485\n",
      "Top3 matches = 742\n"
     ]
    }
   ],
   "source": [
    "pred = get_model_pred_top1(vk_model, df)\n",
    "print('Not in vocab = ' + str(pred.count(-1)))\n",
    "print('Top1 matches = ' + str(pred.count(1)))\n",
    "\n",
    "pred = get_model_pred_top3(vk_model, df)\n",
    "print('Top3 matches = ' + str(pred.count(1)))"
   ]
  },
  {
   "cell_type": "code",
   "execution_count": null,
   "metadata": {},
   "outputs": [],
   "source": []
  }
 ],
 "metadata": {
  "kernelspec": {
   "display_name": "Python 3",
   "language": "python",
   "name": "python3"
  },
  "language_info": {
   "codemirror_mode": {
    "name": "ipython",
    "version": 3
   },
   "file_extension": ".py",
   "mimetype": "text/x-python",
   "name": "python",
   "nbconvert_exporter": "python",
   "pygments_lexer": "ipython3",
   "version": "3.7.5"
  }
 },
 "nbformat": 4,
 "nbformat_minor": 4
}
