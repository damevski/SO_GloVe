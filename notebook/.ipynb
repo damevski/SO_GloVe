{
 "cells": [
  {
   "cell_type": "code",
   "execution_count": 4,
   "metadata": {},
   "outputs": [],
   "source": [
    "import gensim\n",
    "from gensim.scripts.glove2word2vec import glove2word2vec\n",
    "from gensim.models import KeyedVectors\n",
    "\n",
    "glove2word2vec('../embeddings/vectors.txt', '../embeddings/w2v_vectors.txt')\n",
    "model = KeyedVectors.load_word2vec_format('../embeddings/w2v_vectors.txt')"
   ]
  },
  {
   "cell_type": "code",
   "execution_count": 7,
   "metadata": {},
   "outputs": [],
   "source": [
    "def analogy(model, x1, x2, y1):\n",
    "    result = model.most_similar(positive=[x2,y1],negative=[x1])\n",
    "    return result[0][0]"
   ]
  },
  {
   "cell_type": "code",
   "execution_count": 5,
   "metadata": {},
   "outputs": [
    {
     "data": {
      "text/plain": [
       "[('(java', 0.7260007262229919),\n",
       " ('java)', 0.6247530579566956),\n",
       " ('(java)', 0.6221721768379211),\n",
       " ('jdk', 0.6162505149841309),\n",
       " ('swing', 0.5842597484588623),\n",
       " (\"java's\", 0.583393931388855),\n",
       " ('eclipse', 0.5775796175003052),\n",
       " ('netbeans', 0.5340868234634399),\n",
       " ('jvm', 0.5317947864532471),\n",
       " ('scala', 0.5219969749450684)]"
      ]
     },
     "execution_count": 5,
     "metadata": {},
     "output_type": "execute_result"
    }
   ],
   "source": [
    "model.most_similar(positive=['java'])"
   ]
  },
  {
   "cell_type": "code",
   "execution_count": 6,
   "metadata": {},
   "outputs": [
    {
     "data": {
      "text/plain": [
       "[('testing', 0.6772710084915161),\n",
       " ('tests', 0.6694512367248535),\n",
       " ('junit', 0.6379056572914124),\n",
       " ('ju', 0.6328686475753784),\n",
       " ('run', 0.5729539394378662),\n",
       " ('cases', 0.5531142950057983),\n",
       " ('case', 0.5485044121742249),\n",
       " ('<allcaps>nit', 0.547356128692627),\n",
       " ('i', 0.5442484617233276),\n",
       " ('written', 0.542914867401123)]"
      ]
     },
     "execution_count": 6,
     "metadata": {},
     "output_type": "execute_result"
    }
   ],
   "source": [
    "model.most_similar(positive=['java','test'])"
   ]
  },
  {
   "cell_type": "code",
   "execution_count": 8,
   "metadata": {},
   "outputs": [
    {
     "data": {
      "text/plain": [
       "'pytest'"
      ]
     },
     "execution_count": 8,
     "metadata": {},
     "output_type": "execute_result"
    }
   ],
   "source": [
    "analogy(model,'java','junit','python')"
   ]
  },
  {
   "cell_type": "code",
   "execution_count": 9,
   "metadata": {},
   "outputs": [
    {
     "data": {
      "text/plain": [
       "'keras'"
      ]
     },
     "execution_count": 9,
     "metadata": {},
     "output_type": "execute_result"
    }
   ],
   "source": [
    "analogy(model,'java','neural','python')"
   ]
  },
  {
   "cell_type": "code",
   "execution_count": 10,
   "metadata": {},
   "outputs": [
    {
     "data": {
      "text/plain": [
       "'lstm'"
      ]
     },
     "execution_count": 10,
     "metadata": {},
     "output_type": "execute_result"
    }
   ],
   "source": [
    "analogy(model,'python','keras','java')"
   ]
  },
  {
   "cell_type": "code",
   "execution_count": 12,
   "metadata": {},
   "outputs": [],
   "source": [
    "vk_file = '../SO_word2vec/SO_vectors_200.bin'\n",
    "vk_model = KeyedVectors.load_word2vec_format(vk_file, binary=True)"
   ]
  },
  {
   "cell_type": "code",
   "execution_count": 13,
   "metadata": {},
   "outputs": [
    {
     "data": {
      "text/plain": [
       "'python3'"
      ]
     },
     "execution_count": 13,
     "metadata": {},
     "output_type": "execute_result"
    }
   ],
   "source": [
    "analogy(vk_model,'java','junit','python')"
   ]
  },
  {
   "cell_type": "code",
   "execution_count": 14,
   "metadata": {},
   "outputs": [
    {
     "data": {
      "text/plain": [
       "'dl4j'"
      ]
     },
     "execution_count": 14,
     "metadata": {},
     "output_type": "execute_result"
    }
   ],
   "source": [
    "analogy(vk_model,'python','keras','java')"
   ]
  },
  {
   "cell_type": "code",
   "execution_count": 15,
   "metadata": {},
   "outputs": [
    {
     "data": {
      "text/plain": [
       "[('tests', 0.6155980825424194),\n",
       " ('junittest', 0.5816656351089478),\n",
       " ('junits', 0.5695621967315674),\n",
       " ('junit', 0.5690131187438965),\n",
       " ('junit-test', 0.5644052028656006),\n",
       " ('junitcore', 0.5489562749862671),\n",
       " ('logintest', 0.5395268201828003),\n",
       " ('abstractdirectorytestsuite', 0.5389419198036194),\n",
       " ('runclasses', 0.5381342172622681),\n",
       " ('testing', 0.5359343886375427)]"
      ]
     },
     "execution_count": 15,
     "metadata": {},
     "output_type": "execute_result"
    }
   ],
   "source": [
    "vk_model.most_similar(positive=['java','test'])"
   ]
  },
  {
   "cell_type": "code",
   "execution_count": 16,
   "metadata": {},
   "outputs": [
    {
     "data": {
      "text/plain": [
       "[('jave', 0.7305740118026733),\n",
       " ('j2se', 0.633448600769043),\n",
       " ('javase', 0.6294388771057129),\n",
       " ('scala', 0.6201649308204651),\n",
       " ('non-java', 0.6111662983894348),\n",
       " ('javas', 0.6073752641677856),\n",
       " ('-java', 0.5853539705276489),\n",
       " ('jav', 0.5707030892372131),\n",
       " ('jdk', 0.5517216920852661),\n",
       " ('java5', 0.5513848662376404)]"
      ]
     },
     "execution_count": 16,
     "metadata": {},
     "output_type": "execute_result"
    }
   ],
   "source": [
    "vk_model.most_similar(positive=['java'])"
   ]
  },
  {
   "cell_type": "code",
   "execution_count": 25,
   "metadata": {},
   "outputs": [
    {
     "data": {
      "text/plain": [
       "'pycharm'"
      ]
     },
     "execution_count": 25,
     "metadata": {},
     "output_type": "execute_result"
    }
   ],
   "source": [
    "analogy(vk_model,'java','eclipse','python')"
   ]
  },
  {
   "cell_type": "code",
   "execution_count": 26,
   "metadata": {},
   "outputs": [
    {
     "name": "stderr",
     "output_type": "stream",
     "text": [
      "/usr/local/lib/python3.7/site-packages/gensim/models/keyedvectors.py:877: FutureWarning: arrays to stack must be passed as a \"sequence\" type such as list or tuple. Support for non-sequence iterables such as generators is deprecated as of NumPy 1.16 and will raise an error in the future.\n",
      "  vectors = vstack(self.word_vec(word, use_norm=True) for word in used_words).astype(REAL)\n"
     ]
    },
    {
     "data": {
      "text/plain": [
       "'bash'"
      ]
     },
     "execution_count": 26,
     "metadata": {},
     "output_type": "execute_result"
    }
   ],
   "source": [
    "model.doesnt_match(\"java c++ python bash\".split())"
   ]
  },
  {
   "cell_type": "code",
   "execution_count": null,
   "metadata": {},
   "outputs": [],
   "source": []
  }
 ],
 "metadata": {
  "kernelspec": {
   "display_name": "Python 3",
   "language": "python",
   "name": "python3"
  },
  "language_info": {
   "codemirror_mode": {
    "name": "ipython",
    "version": 3
   },
   "file_extension": ".py",
   "mimetype": "text/x-python",
   "name": "python",
   "nbconvert_exporter": "python",
   "pygments_lexer": "ipython3",
   "version": "3.7.5"
  }
 },
 "nbformat": 4,
 "nbformat_minor": 4
}
