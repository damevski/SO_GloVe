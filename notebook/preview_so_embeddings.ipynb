{
 "cells": [
  {
   "cell_type": "code",
   "execution_count": 2,
   "metadata": {},
   "outputs": [],
   "source": [
    "import gensim\n",
    "from gensim.scripts.glove2word2vec import glove2word2vec\n",
    "from gensim.models import KeyedVectors\n",
    "\n",
    "glove2word2vec('../embeddings/vectors.txt', '../embeddings/w2v_vectors.txt')\n",
    "model = KeyedVectors.load_word2vec_format('../embeddings/w2v_vectors.txt')"
   ]
  },
  {
   "cell_type": "code",
   "execution_count": 3,
   "metadata": {},
   "outputs": [],
   "source": [
    "def analogy(model, x1, x2, y1):\n",
    "    result = model.most_similar(positive=[x2,y1],negative=[x1])\n",
    "    return result[0][0]"
   ]
  },
  {
   "cell_type": "code",
   "execution_count": 4,
   "metadata": {},
   "outputs": [
    {
     "data": {
      "text/plain": [
       "[(\"java's\", 0.5935564041137695),\n",
       " ('jdk', 0.5905563235282898),\n",
       " ('swing', 0.5787304639816284),\n",
       " ('eclipse', 0.5614255666732788),\n",
       " ('jvm', 0.541899561882019),\n",
       " ('groovy', 0.5220783948898315),\n",
       " ('netbeans', 0.5132842659950256),\n",
       " ('jar', 0.5042675733566284),\n",
       " ('scala', 0.4976651668548584),\n",
       " ('applet', 0.4954228103160858)]"
      ]
     },
     "execution_count": 4,
     "metadata": {},
     "output_type": "execute_result"
    }
   ],
   "source": [
    "model.most_similar(positive=['java'])"
   ]
  },
  {
   "cell_type": "code",
   "execution_count": 5,
   "metadata": {},
   "outputs": [
    {
     "data": {
      "text/plain": [
       "[('junit', 0.6811604499816895),\n",
       " ('testing', 0.6806052327156067),\n",
       " ('tests', 0.6777591705322266),\n",
       " ('cases', 0.5550381541252136),\n",
       " ('wrote', 0.5482021570205688),\n",
       " ('run', 0.5480926036834717),\n",
       " ('written', 0.5424278974533081),\n",
       " ('case', 0.5283039212226868),\n",
       " ('i', 0.5224477052688599),\n",
       " ('writing', 0.5186957716941833)]"
      ]
     },
     "execution_count": 5,
     "metadata": {},
     "output_type": "execute_result"
    }
   ],
   "source": [
    "model.most_similar(positive=['java','test'])"
   ]
  },
  {
   "cell_type": "code",
   "execution_count": 6,
   "metadata": {},
   "outputs": [
    {
     "data": {
      "text/plain": [
       "'unittest'"
      ]
     },
     "execution_count": 6,
     "metadata": {},
     "output_type": "execute_result"
    }
   ],
   "source": [
    "analogy(model,'java','junit','python')"
   ]
  },
  {
   "cell_type": "code",
   "execution_count": 7,
   "metadata": {},
   "outputs": [
    {
     "data": {
      "text/plain": [
       "'keras'"
      ]
     },
     "execution_count": 7,
     "metadata": {},
     "output_type": "execute_result"
    }
   ],
   "source": [
    "analogy(model,'java','neural','python')"
   ]
  },
  {
   "cell_type": "code",
   "execution_count": 8,
   "metadata": {},
   "outputs": [
    {
     "data": {
      "text/plain": [
       "'cnn'"
      ]
     },
     "execution_count": 8,
     "metadata": {},
     "output_type": "execute_result"
    }
   ],
   "source": [
    "analogy(model,'python','keras','java')"
   ]
  },
  {
   "cell_type": "code",
   "execution_count": 8,
   "metadata": {},
   "outputs": [],
   "source": [
    "vk_file = '../SO_word2vec/SO_vectors_200.bin'\n",
    "vk_model = KeyedVectors.load_word2vec_format(vk_file, binary=True)"
   ]
  },
  {
   "cell_type": "code",
   "execution_count": 9,
   "metadata": {},
   "outputs": [
    {
     "data": {
      "text/plain": [
       "'unittest'"
      ]
     },
     "execution_count": 9,
     "metadata": {},
     "output_type": "execute_result"
    }
   ],
   "source": [
    "analogy(model,'java','junit','python')"
   ]
  },
  {
   "cell_type": "code",
   "execution_count": 11,
   "metadata": {},
   "outputs": [
    {
     "data": {
      "text/plain": [
       "'dl4j'"
      ]
     },
     "execution_count": 11,
     "metadata": {},
     "output_type": "execute_result"
    }
   ],
   "source": [
    "analogy(vk_model,'python','keras','java')"
   ]
  },
  {
   "cell_type": "code",
   "execution_count": 12,
   "metadata": {},
   "outputs": [
    {
     "data": {
      "text/plain": [
       "[('tests', 0.6155980825424194),\n",
       " ('junittest', 0.5816656351089478),\n",
       " ('junits', 0.5695621967315674),\n",
       " ('junit', 0.5690131187438965),\n",
       " ('junit-test', 0.5644052028656006),\n",
       " ('junitcore', 0.5489562749862671),\n",
       " ('logintest', 0.5395268201828003),\n",
       " ('abstractdirectorytestsuite', 0.5389419198036194),\n",
       " ('runclasses', 0.5381342172622681),\n",
       " ('testing', 0.5359343886375427)]"
      ]
     },
     "execution_count": 12,
     "metadata": {},
     "output_type": "execute_result"
    }
   ],
   "source": [
    "vk_model.most_similar(positive=['java','test'])"
   ]
  },
  {
   "cell_type": "code",
   "execution_count": 16,
   "metadata": {},
   "outputs": [
    {
     "data": {
      "text/plain": [
       "[('jave', 0.7305740118026733),\n",
       " ('j2se', 0.633448600769043),\n",
       " ('javase', 0.6294388771057129),\n",
       " ('scala', 0.6201649308204651),\n",
       " ('non-java', 0.6111662983894348),\n",
       " ('javas', 0.6073752641677856),\n",
       " ('-java', 0.5853539705276489),\n",
       " ('jav', 0.5707030892372131),\n",
       " ('jdk', 0.5517216920852661),\n",
       " ('java5', 0.5513848662376404)]"
      ]
     },
     "execution_count": 16,
     "metadata": {},
     "output_type": "execute_result"
    }
   ],
   "source": [
    "vk_model.most_similar(positive=['java'])"
   ]
  },
  {
   "cell_type": "code",
   "execution_count": 10,
   "metadata": {},
   "outputs": [
    {
     "data": {
      "text/plain": [
       "'pycharm'"
      ]
     },
     "execution_count": 10,
     "metadata": {},
     "output_type": "execute_result"
    }
   ],
   "source": [
    "analogy(model,'java','eclipse','python')"
   ]
  },
  {
   "cell_type": "code",
   "execution_count": 11,
   "metadata": {},
   "outputs": [
    {
     "name": "stderr",
     "output_type": "stream",
     "text": [
      "/usr/local/lib/python3.7/site-packages/gensim/models/keyedvectors.py:877: FutureWarning: arrays to stack must be passed as a \"sequence\" type such as list or tuple. Support for non-sequence iterables such as generators is deprecated as of NumPy 1.16 and will raise an error in the future.\n",
      "  vectors = vstack(self.word_vec(word, use_norm=True) for word in used_words).astype(REAL)\n"
     ]
    },
    {
     "data": {
      "text/plain": [
       "'bash'"
      ]
     },
     "execution_count": 11,
     "metadata": {},
     "output_type": "execute_result"
    }
   ],
   "source": [
    "model.doesnt_match(\"java c++ python bash\".split())"
   ]
  },
  {
   "cell_type": "code",
   "execution_count": 12,
   "metadata": {},
   "outputs": [
    {
     "data": {
      "text/plain": [
       "[('python3', 0.7936046719551086),\n",
       " (\"python's\", 0.6668739318847656),\n",
       " ('pandas', 0.592261791229248),\n",
       " ('pycharm', 0.5707339644432068),\n",
       " ('numpy', 0.5608341693878174),\n",
       " ('multiprocessing', 0.5575698614120483),\n",
       " ('django', 0.5411977171897888),\n",
       " ('flask', 0.5332773923873901),\n",
       " ('pip', 0.5331385135650635),\n",
       " ('interpreter', 0.5276260375976562)]"
      ]
     },
     "execution_count": 12,
     "metadata": {},
     "output_type": "execute_result"
    }
   ],
   "source": [
    "model.most_similar(positive=['python'])"
   ]
  },
  {
   "cell_type": "code",
   "execution_count": null,
   "metadata": {},
   "outputs": [],
   "source": []
  }
 ],
 "metadata": {
  "kernelspec": {
   "display_name": "Python 3",
   "language": "python",
   "name": "python3"
  },
  "language_info": {
   "codemirror_mode": {
    "name": "ipython",
    "version": 3
   },
   "file_extension": ".py",
   "mimetype": "text/x-python",
   "name": "python",
   "nbconvert_exporter": "python",
   "pygments_lexer": "ipython3",
   "version": "3.7.5"
  }
 },
 "nbformat": 4,
 "nbformat_minor": 4
}
